{
 "cells": [
  {
   "cell_type": "code",
   "execution_count": null,
   "metadata": {},
   "outputs": [],
   "source": [
    "#NLP  TASK_8  TASK_2\n",
    "#In this i did 100 commonly misspelled words list of 110 i have taken from the following website\n",
    "#https://www.englishclub.com/spelling/misspellings.htm\n",
    "#I did this using python techniques; and also NLP NLTK. \n",
    "\n",
    "#I have taken a sentence of 210 words containing misspelled words. \n",
    "#On this also i did with python techniques; and also NLP NLTK\n",
    "\n",
    "################## In both misspelled words; and sentence with misspelled words, in both cases \n",
    "##################python technique is found to be better than NLP NLTK technique"
   ]
  },
  {
   "cell_type": "code",
   "execution_count": null,
   "metadata": {},
   "outputs": [],
   "source": [
    "########################## The following is 100 commonly misspeled 100 words  ################################################"
   ]
  },
  {
   "cell_type": "code",
   "execution_count": null,
   "metadata": {},
   "outputs": [],
   "source": [
    "###############################################################################################################################"
   ]
  },
  {
   "cell_type": "code",
   "execution_count": null,
   "metadata": {},
   "outputs": [],
   "source": [
    "###################The following is misspelled 100 words part of task 2. using NLP##############"
   ]
  },
  {
   "cell_type": "code",
   "execution_count": 1,
   "metadata": {},
   "outputs": [
    {
     "name": "stderr",
     "output_type": "stream",
     "text": [
      "[nltk_data] Downloading package words to\n",
      "[nltk_data]     C:\\Users\\Ranganadh\\AppData\\Roaming\\nltk_data...\n",
      "[nltk_data]   Package words is already up-to-date!\n"
     ]
    }
   ],
   "source": [
    "import nltk\n",
    "  \n",
    "from nltk.metrics.distance  import edit_distance\n",
    "\n",
    "nltk.download('words')\n",
    "from nltk.corpus import words\n",
    "correct_words = words.words()"
   ]
  },
  {
   "cell_type": "code",
   "execution_count": 2,
   "metadata": {},
   "outputs": [
    {
     "name": "stdout",
     "output_type": "stream",
     "text": [
      "absense abscence accomodate accomodation acheive accross agressive apparantly appearence arguement assasination basicly begining beleive belive buisness calender Carribean catagory cemetary collegue comming commitee completly concience concious copywrite curiousity definately dissapear dissapoint ecstacy embarass enviroment existance familar finaly florescent foriegn fourty foward freind futher glamourous goverment grammer guage greatful gaurd happend harrass harrassment honourary humourous immediatly incidently independant interupt irresistable knowlege lightening medecine millenium millenia mispell neccessary noticable ocassion occassion occured occuring occurance occurence paralel parralel persistant Phillipines peice politican posession prefered prefering priviledge pronounciation publically realy recieve refered refering religous rember remeber resistence sence seperate succesful suprise tendancy therefor threshhold tommorow tommorrow tounge truely unforseen unfortunatly untill viscious wierd whereever \n",
      "   \n",
      "\n",
      "\n",
      "\n",
      "\n"
     ]
    }
   ],
   "source": [
    "with open(\"text1002.txt\", \"r\") as f:        \n",
    "    text = f.read()\n",
    "print(text)"
   ]
  },
  {
   "cell_type": "code",
   "execution_count": 3,
   "metadata": {},
   "outputs": [
    {
     "name": "stdout",
     "output_type": "stream",
     "text": [
      "['absense', 'abscence', 'accomodate', 'accomodation', 'acheive', 'accross', 'agressive', 'apparantly', 'appearence', 'arguement', 'assasination', 'basicly', 'begining', 'beleive', 'belive', 'buisness', 'calender', 'Carribean', 'catagory', 'cemetary', 'collegue', 'comming', 'commitee', 'completly', 'concience', 'concious', 'copywrite', 'curiousity', 'definately', 'dissapear', 'dissapoint', 'ecstacy', 'embarass', 'enviroment', 'existance', 'familar', 'finaly', 'florescent', 'foriegn', 'fourty', 'foward', 'freind', 'futher', 'glamourous', 'goverment', 'grammer', 'guage', 'greatful', 'gaurd', 'happend', 'harrass', 'harrassment', 'honourary', 'humourous', 'immediatly', 'incidently', 'independant', 'interupt', 'irresistable', 'knowlege', 'lightening', 'medecine', 'millenium', 'millenia', 'mispell', 'neccessary', 'noticable', 'ocassion', 'occassion', 'occured', 'occuring', 'occurance', 'occurence', 'paralel', 'parralel', 'persistant', 'Phillipines', 'peice', 'politican', 'posession', 'prefered', 'prefering', 'priviledge', 'pronounciation', 'publically', 'realy', 'recieve', 'refered', 'refering', 'religous', 'rember', 'remeber', 'resistence', 'sence', 'seperate', 'succesful', 'suprise', 'tendancy', 'therefor', 'threshhold', 'tommorow', 'tommorrow', 'tounge', 'truely', 'unforseen', 'unfortunatly', 'untill', 'viscious', 'wierd', 'whereever']\n"
     ]
    }
   ],
   "source": [
    "text1 = text.split()\n",
    "print(text1)"
   ]
  },
  {
   "cell_type": "code",
   "execution_count": 4,
   "metadata": {},
   "outputs": [],
   "source": [
    "incorrect_words=text1\n",
    "corrected_words = []\n",
    "\n",
    "for word in incorrect_words:\n",
    "    temp = [(edit_distance(word, w),w) for w in correct_words if w[0]==word[0]]\n",
    "    corrected_words.append(sorted(temp, key = lambda val:val[0])[0][1])"
   ]
  },
  {
   "cell_type": "code",
   "execution_count": 5,
   "metadata": {},
   "outputs": [
    {
     "name": "stdout",
     "output_type": "stream",
     "text": [
      "['absence', 'absconce', 'accommodate', 'accommodation', 'achene', 'across', 'aggressive', 'apparently', 'apparence', 'argument', 'assassination', 'basally', 'beginning', 'beleave', 'belive', 'bassness', 'calender', 'Cariban', 'category', 'cemetery', 'colleague', 'coaming', 'committee', 'completely', 'conscience', 'conscious', 'copywise', 'curiosity', 'definitely', 'disappear', 'disanoint', 'ecstasy', 'embarrass', 'environment', 'existence', 'familiar', 'final', 'florescent', 'forego', 'forty', 'forward', 'feint', 'father', 'glamorous', 'government', 'gammer', 'gage', 'grateful', 'gaud', 'happen', 'harass', 'harassment', 'honorary', 'humorous', 'immediately', 'incidently', 'independent', 'interrupt', 'irresistible', 'knowledge', 'lightening', 'medicine', 'millennium', 'millennia', 'misspell', 'necessary', 'noticeable', 'occasion', 'occasion', 'occur', 'occulting', 'occupance', 'occurrence', 'parale', 'parale', 'persistent', 'Philippines', 'peace', 'political', 'possession', 'preferee', 'pilfering', 'privilege', 'pronunciation', 'publicly', 'ready', 'relieve', 'refeed', 'rebring', 'religious', 'rambeh', 'remember', 'resistance', 'sence', 'separate', 'successful', 'sunrise', 'tenancy', 'therefor', 'threshold', 'tommyrot', 'tomorrow', 'thunge', 'truly', 'unforeseen', 'unfortunately', 'untill', 'vicious', 'wield', 'whereover']\n"
     ]
    }
   ],
   "source": [
    "print(corrected_words)"
   ]
  },
  {
   "cell_type": "code",
   "execution_count": null,
   "metadata": {},
   "outputs": [],
   "source": [
    "################The following is misspelled 100 words part of task 2. using Python technique##############"
   ]
  },
  {
   "cell_type": "code",
   "execution_count": 6,
   "metadata": {},
   "outputs": [
    {
     "name": "stdout",
     "output_type": "stream",
     "text": [
      "Requirement already satisfied: autocorrect in c:\\users\\anaconda-2021\\lib\\site-packages (2.6.1)\n"
     ]
    }
   ],
   "source": [
    "!pip install autocorrect\n"
   ]
  },
  {
   "cell_type": "code",
   "execution_count": 7,
   "metadata": {},
   "outputs": [
    {
     "name": "stdout",
     "output_type": "stream",
     "text": [
      "absense abscence accomodate accomodation acheive accross agressive apparantly appearence arguement assasination basicly begining beleive belive buisness calender Carribean catagory cemetary collegue comming commitee completly concience concious copywrite curiousity definately dissapear dissapoint ecstacy embarass enviroment existance familar finaly florescent foriegn fourty foward freind futher glamourous goverment grammer guage greatful gaurd happend harrass harrassment honourary humourous immediatly incidently independant interupt irresistable knowlege lightening medecine millenium millenia mispell neccessary noticable ocassion occassion occured occuring occurance occurence paralel parralel persistant Phillipines peice politican posession prefered prefering priviledge pronounciation publically realy recieve refered refering religous rember remeber resistence sence seperate succesful suprise tendancy therefor threshhold tommorow tommorrow tounge truely unforseen unfortunatly untill viscious wierd whereever \n",
      "   \n",
      "\n",
      "\n",
      "\n",
      "\n"
     ]
    }
   ],
   "source": [
    "with open(\"text1002.txt\", \"r\") as f:        \n",
    "    text = f.read()\n",
    "print(text)"
   ]
  },
  {
   "cell_type": "code",
   "execution_count": 8,
   "metadata": {},
   "outputs": [
    {
     "name": "stdout",
     "output_type": "stream",
     "text": [
      "['absense', 'abscence', 'accomodate', 'accomodation', 'acheive', 'accross', 'agressive', 'apparantly', 'appearence', 'arguement', 'assasination', 'basicly', 'begining', 'beleive', 'belive', 'buisness', 'calender', 'Carribean', 'catagory', 'cemetary', 'collegue', 'comming', 'commitee', 'completly', 'concience', 'concious', 'copywrite', 'curiousity', 'definately', 'dissapear', 'dissapoint', 'ecstacy', 'embarass', 'enviroment', 'existance', 'familar', 'finaly', 'florescent', 'foriegn', 'fourty', 'foward', 'freind', 'futher', 'glamourous', 'goverment', 'grammer', 'guage', 'greatful', 'gaurd', 'happend', 'harrass', 'harrassment', 'honourary', 'humourous', 'immediatly', 'incidently', 'independant', 'interupt', 'irresistable', 'knowlege', 'lightening', 'medecine', 'millenium', 'millenia', 'mispell', 'neccessary', 'noticable', 'ocassion', 'occassion', 'occured', 'occuring', 'occurance', 'occurence', 'paralel', 'parralel', 'persistant', 'Phillipines', 'peice', 'politican', 'posession', 'prefered', 'prefering', 'priviledge', 'pronounciation', 'publically', 'realy', 'recieve', 'refered', 'refering', 'religous', 'rember', 'remeber', 'resistence', 'sence', 'seperate', 'succesful', 'suprise', 'tendancy', 'therefor', 'threshhold', 'tommorow', 'tommorrow', 'tounge', 'truely', 'unforseen', 'unfortunatly', 'untill', 'viscious', 'wierd', 'whereever']\n"
     ]
    }
   ],
   "source": [
    "text1 = text.split()\n",
    "print(text1)"
   ]
  },
  {
   "cell_type": "code",
   "execution_count": 9,
   "metadata": {},
   "outputs": [
    {
     "name": "stdout",
     "output_type": "stream",
     "text": [
      "['absence', 'absence', 'accommodate', 'accommodation', 'achieve', 'across', 'aggressive', 'apparently', 'appearance', 'arguement', 'assassination', 'basic', 'beginning', 'believe', 'believe', 'business', 'calendar', 'Caribbean', 'category', 'cemetery', 'college', 'coming', 'committee', 'completely', 'conscience', 'conscious', 'copywrite', 'curiosity', 'definately', 'disappear', 'disappoint', 'ecstasy', 'embarrass', 'environment', 'existance', 'familiar', 'final', 'fluorescent', 'foreign', 'fourth', 'forward', 'friend', 'further', 'glamorous', 'government', 'grammar', 'gauge', 'grateful', 'guard', 'happened', 'harass', 'harrassment', 'honorary', 'humorous', 'immediately', 'incident', 'independant', 'interrupt', 'irresistible', 'knowledge', 'lightning', 'medicine', 'millennium', 'millennia', 'spell', 'necessary', 'noticeable', 'occasion', 'occasion', 'occured', 'occurring', 'occurrence', 'occurrence', 'parallel', 'parallel', 'persistent', 'Philippines', 'piece', 'political', 'possession', 'preferred', 'preferring', 'privilege', 'pronunciation', 'publicly', 'really', 'receive', 'referee', 'refering', 'religious', 'member', 'remember', 'resistance', 'since', 'seperate', 'successful', 'surprise', 'tendency', 'therefore', 'threshold', 'tomorrow', 'tomorrow', 'lounge', 'truly', 'unforeseen', 'unfortunately', 'until', 'vicious', 'weird', 'wherever']\n"
     ]
    }
   ],
   "source": [
    "from autocorrect import Speller\n",
    "\n",
    "spell = Speller(lang='en')\n",
    "\n",
    "corrected_word = []\n",
    "for i in text1:\n",
    "    corrected_word.append(spell(i))\n",
    "print(corrected_word)"
   ]
  },
  {
   "cell_type": "code",
   "execution_count": null,
   "metadata": {},
   "outputs": [],
   "source": [
    "########################## The following is 210 word sentence with misspelled words ###########################################"
   ]
  },
  {
   "cell_type": "code",
   "execution_count": null,
   "metadata": {},
   "outputs": [],
   "source": [
    "###############################################################################################################################"
   ]
  },
  {
   "cell_type": "code",
   "execution_count": null,
   "metadata": {},
   "outputs": [],
   "source": [
    "#The following is usin NLP NLTK"
   ]
  },
  {
   "cell_type": "code",
   "execution_count": 10,
   "metadata": {},
   "outputs": [
    {
     "name": "stderr",
     "output_type": "stream",
     "text": [
      "[nltk_data] Downloading package words to\n",
      "[nltk_data]     C:\\Users\\Ranganadh\\AppData\\Roaming\\nltk_data...\n",
      "[nltk_data]   Package words is already up-to-date!\n"
     ]
    }
   ],
   "source": [
    "import nltk\n",
    "  \n",
    "from nltk.metrics.distance  import edit_distance\n",
    "\n",
    "nltk.download('words')\n",
    "from nltk.corpus import words\n",
    "correct_words = words.words()"
   ]
  },
  {
   "cell_type": "code",
   "execution_count": 11,
   "metadata": {},
   "outputs": [
    {
     "name": "stdout",
     "output_type": "stream",
     "text": [
      "As far as I am abl to judg, after long attnding to the sbject, the condiions of lfe apear to act in two ways—directly on the whle organsaton or on certin parts alne and indirectly by afcting the reproducte sstem. Wit respct to te dirct action, we mst bea in mid tht in every cse, as Profesor Weismann hs latly insistd, and as I have inidently shwn in my wrk on Variatin undr Domesticcation, thcere arae two factrs: namly, the natre of the orgnism and the natture of the condiions. The frmer sems to be much th mre importannt; foor nealy siimilar variations sometimes aris under, as far as we cn juddge, disimilar conditios; annd, on te oter hannd, disssimilar variatioons arise undder conditions which aappear to be nnearly uniiform. The efffects on tthe offspring arre ieither definnite or in definite. They maay be considdered as definnite whhen allc or neearly all thhe ofefspring off inadividuals exnposed tco ceertain conditionas duriing seveal ggenerations aree moodified in te saame maner.\n",
      "\n"
     ]
    }
   ],
   "source": [
    "with open(\"text100.txt\", \"r\") as f:        \n",
    "    text = f.read()\n",
    "print(text)"
   ]
  },
  {
   "cell_type": "code",
   "execution_count": 12,
   "metadata": {},
   "outputs": [
    {
     "name": "stdout",
     "output_type": "stream",
     "text": [
      "['As', 'far', 'as', 'I', 'am', 'abl', 'to', 'judg,', 'after', 'long', 'attnding', 'to', 'the', 'sbject,', 'the', 'condiions', 'of', 'lfe', 'apear', 'to', 'act', 'in', 'two', 'ways—directly', 'on', 'the', 'whle', 'organsaton', 'or', 'on', 'certin', 'parts', 'alne', 'and', 'indirectly', 'by', 'afcting', 'the', 'reproducte', 'sstem.', 'Wit', 'respct', 'to', 'te', 'dirct', 'action,', 'we', 'mst', 'bea', 'in', 'mid', 'tht', 'in', 'every', 'cse,', 'as', 'Profesor', 'Weismann', 'hs', 'latly', 'insistd,', 'and', 'as', 'I', 'have', 'inidently', 'shwn', 'in', 'my', 'wrk', 'on', 'Variatin', 'undr', 'Domesticcation,', 'thcere', 'arae', 'two', 'factrs:', 'namly,', 'the', 'natre', 'of', 'the', 'orgnism', 'and', 'the', 'natture', 'of', 'the', 'condiions.', 'The', 'frmer', 'sems', 'to', 'be', 'much', 'th', 'mre', 'importannt;', 'foor', 'nealy', 'siimilar', 'variations', 'sometimes', 'aris', 'under,', 'as', 'far', 'as', 'we', 'cn', 'juddge,', 'disimilar', 'conditios;', 'annd,', 'on', 'te', 'oter', 'hannd,', 'disssimilar', 'variatioons', 'arise', 'undder', 'conditions', 'which', 'aappear', 'to', 'be', 'nnearly', 'uniiform.', 'The', 'efffects', 'on', 'tthe', 'offspring', 'arre', 'ieither', 'definnite', 'or', 'in', 'definite.', 'They', 'maay', 'be', 'considdered', 'as', 'definnite', 'whhen', 'allc', 'or', 'neearly', 'all', 'thhe', 'ofefspring', 'off', 'inadividuals', 'exnposed', 'tco', 'ceertain', 'conditionas', 'duriing', 'seveal', 'ggenerations', 'aree', 'moodified', 'in', 'te', 'saame', 'maner.']\n"
     ]
    }
   ],
   "source": [
    "text1 = text.split()\n",
    "print(text1)"
   ]
  },
  {
   "cell_type": "code",
   "execution_count": 13,
   "metadata": {},
   "outputs": [],
   "source": [
    "incorrect_words=text1\n",
    "corrected_words = []\n",
    "\n",
    "for word in incorrect_words:\n",
    "    temp = [(edit_distance(word, w),w) for w in correct_words if w[0]==word[0]]\n",
    "    corrected_words.append(sorted(temp, key = lambda val:val[0])[0][1])"
   ]
  },
  {
   "cell_type": "code",
   "execution_count": 14,
   "metadata": {},
   "outputs": [
    {
     "name": "stdout",
     "output_type": "stream",
     "text": [
      "As far as I am aal to judge after long abiding to the subject the condition of lee abear to act in two wadingly on the wale organization or on cerin pants acne and indirectly by acting the reproduce stem Wat resect to te diact action we mast ba in mid tat in every case as Portor Weinmannia h lastly insist and as I have incidently sawn in my wark on Valentin unde Danization there ara two factish naily the nacre of the organism and the nature of the condition The farmer seme to be much th mae important floor neal similar variation sometimes anis under as far as we c judge dissimilar condition ananda on te oer hand dissimilar variation arise udder condition which appear to be nearly unciform The effects on tche offspring acre ither definite or in definite The maam be considered as definite wheen alec or nearly all tche offspring off individual exposed tao certain conditional during several generation agee modifier in te sahme macer\n"
     ]
    }
   ],
   "source": [
    "print(*corrected_words)"
   ]
  },
  {
   "cell_type": "code",
   "execution_count": null,
   "metadata": {},
   "outputs": [],
   "source": [
    "################The following is using python technique###################3"
   ]
  },
  {
   "cell_type": "code",
   "execution_count": 15,
   "metadata": {},
   "outputs": [
    {
     "name": "stdout",
     "output_type": "stream",
     "text": [
      "Requirement already satisfied: autocorrect in c:\\users\\anaconda-2021\\lib\\site-packages (2.6.1)\n"
     ]
    }
   ],
   "source": [
    "!pip install autocorrect\n"
   ]
  },
  {
   "cell_type": "code",
   "execution_count": 16,
   "metadata": {},
   "outputs": [
    {
     "name": "stdout",
     "output_type": "stream",
     "text": [
      "As far as I am abl to judg, after long attnding to the sbject, the condiions of lfe apear to act in two ways—directly on the whle organsaton or on certin parts alne and indirectly by afcting the reproducte sstem. Wit respct to te dirct action, we mst bea in mid tht in every cse, as Profesor Weismann hs latly insistd, and as I have inidently shwn in my wrk on \"Variatin undr Domesticcation,\" thcere arae two factrs: namly, the natre of the orgnism and the natture of the condiions. The frmer sems to be much th mre importannt; foor nealy siimilar variations sometimes aris under, as far as we cn juddge, disimilar conditios; annd, on te oter hannd, disssimilar variatioons arise undder conditions which aappear to be nnearly uniiform. The efffects on tthe offspring arre ieither definnite or in definite. They maay be considdered as definnite whhen allc or neearly all thhe ofefspring off inadividuals exnposed tco ceertain conditionas duriing seveal ggenerations aree moodified in te saame maner.\n",
      "\n"
     ]
    }
   ],
   "source": [
    "with open(\"text.txt\", \"r\") as f:        \n",
    "    text = f.read()\n",
    "print(text)"
   ]
  },
  {
   "cell_type": "code",
   "execution_count": 17,
   "metadata": {},
   "outputs": [
    {
     "name": "stdout",
     "output_type": "stream",
     "text": [
      "['As', 'far', 'as', 'I', 'am', 'abl', 'to', 'judg,', 'after', 'long', 'attnding', 'to', 'the', 'sbject,', 'the', 'condiions', 'of', 'lfe', 'apear', 'to', 'act', 'in', 'two', 'ways—directly', 'on', 'the', 'whle', 'organsaton', 'or', 'on', 'certin', 'parts', 'alne', 'and', 'indirectly', 'by', 'afcting', 'the', 'reproducte', 'sstem.', 'Wit', 'respct', 'to', 'te', 'dirct', 'action,', 'we', 'mst', 'bea', 'in', 'mid', 'tht', 'in', 'every', 'cse,', 'as', 'Profesor', 'Weismann', 'hs', 'latly', 'insistd,', 'and', 'as', 'I', 'have', 'inidently', 'shwn', 'in', 'my', 'wrk', 'on', '\"Variatin', 'undr', 'Domesticcation,\"', 'thcere', 'arae', 'two', 'factrs:', 'namly,', 'the', 'natre', 'of', 'the', 'orgnism', 'and', 'the', 'natture', 'of', 'the', 'condiions.', 'The', 'frmer', 'sems', 'to', 'be', 'much', 'th', 'mre', 'importannt;', 'foor', 'nealy', 'siimilar', 'variations', 'sometimes', 'aris', 'under,', 'as', 'far', 'as', 'we', 'cn', 'juddge,', 'disimilar', 'conditios;', 'annd,', 'on', 'te', 'oter', 'hannd,', 'disssimilar', 'variatioons', 'arise', 'undder', 'conditions', 'which', 'aappear', 'to', 'be', 'nnearly', 'uniiform.', 'The', 'efffects', 'on', 'tthe', 'offspring', 'arre', 'ieither', 'definnite', 'or', 'in', 'definite.', 'They', 'maay', 'be', 'considdered', 'as', 'definnite', 'whhen', 'allc', 'or', 'neearly', 'all', 'thhe', 'ofefspring', 'off', 'inadividuals', 'exnposed', 'tco', 'ceertain', 'conditionas', 'duriing', 'seveal', 'ggenerations', 'aree', 'moodified', 'in', 'te', 'saame', 'maner.']\n"
     ]
    }
   ],
   "source": [
    "text1 = text.split()\n",
    "print(text1)"
   ]
  },
  {
   "cell_type": "code",
   "execution_count": 19,
   "metadata": {},
   "outputs": [],
   "source": [
    "from autocorrect import Speller\n",
    "\n",
    "spell = Speller(lang='en')"
   ]
  },
  {
   "cell_type": "code",
   "execution_count": 20,
   "metadata": {},
   "outputs": [
    {
     "name": "stdout",
     "output_type": "stream",
     "text": [
      "['As', 'far', 'as', 'I', 'am', 'abl', 'to', 'judge,', 'after', 'long', 'attending', 'to', 'the', 'subject,', 'the', 'conditions', 'of', 'lfe', 'appear', 'to', 'act', 'in', 'two', 'ways—directly', 'on', 'the', 'while', 'organisation', 'or', 'on', 'certain', 'parts', 'alone', 'and', 'indirectly', 'by', 'acting', 'the', 'reproduce', 'system.', 'Wit', 'respect', 'to', 'te', 'direct', 'action,', 'we', 'mst', 'bea', 'in', 'mid', 'the', 'in', 'every', 'cse,', 'as', 'Professor', 'Weisman', 'hs', 'lately', 'insisted,', 'and', 'as', 'I', 'have', 'evidently', 'shown', 'in', 'my', 'work', 'on', '\"Variation', 'under', 'Domestication,\"', 'there', 'are', 'two', 'facts:', 'namely,', 'the', 'nature', 'of', 'the', 'organism', 'and', 'the', 'nature', 'of', 'the', 'conditions.', 'The', 'former', 'seems', 'to', 'be', 'much', 'th', 'are', 'important;', 'for', 'nearly', 'similar', 'variations', 'sometimes', 'arts', 'under,', 'as', 'far', 'as', 'we', 'cn', 'judge,', 'dissimilar', 'conditions;', 'and,', 'on', 'te', 'other', 'hand,', 'dissimilar', 'variations', 'arise', 'under', 'conditions', 'which', 'appear', 'to', 'be', 'nearly', 'uniform.', 'The', 'effects', 'on', 'the', 'offspring', 'are', 'either', 'definite', 'or', 'in', 'definite.', 'They', 'may', 'be', 'considered', 'as', 'definite', 'when', 'all', 'or', 'nearly', 'all', 'the', 'offspring', 'off', 'individuals', 'exposed', 'to', 'certain', 'conditions', 'during', 'several', 'generations', 'are', 'modified', 'in', 'te', 'same', 'mater.']\n",
      "As far as I am abl to judge, after long attending to the subject, the conditions of lfe appear to act in two ways—directly on the while organisation or on certain parts alone and indirectly by acting the reproduce system. Wit respect to te direct action, we mst bea in mid the in every cse, as Professor Weisman hs lately insisted, and as I have evidently shown in my work on \"Variation under Domestication,\" there are two facts: namely, the nature of the organism and the nature of the conditions. The former seems to be much th are important; for nearly similar variations sometimes arts under, as far as we cn judge, dissimilar conditions; and, on te other hand, dissimilar variations arise under conditions which appear to be nearly uniform. The effects on the offspring are either definite or in definite. They may be considered as definite when all or nearly all the offspring off individuals exposed to certain conditions during several generations are modified in te same mater.\n",
      "As far as I am abl to judge, after long attending to the subject, the conditions of lfe appear to act in two ways—directly on the while organisation or on certain parts alone and indirectly by acting the reproduce system. Wit respect to te direct action, we mst bea in mid the in every cse, as Professor Weisman hs lately insisted, and as I have evidently shown in my work on \"Variation under Domestication,\" there are two facts: namely, the nature of the organism and the nature of the conditions. The former seems to be much th are important; for nearly similar variations sometimes arts under, as far as we cn judge, dissimilar conditions; and, on te other hand, dissimilar variations arise under conditions which appear to be nearly uniform. The effects on the offspring are either definite or in definite. They may be considered as definite when all or nearly all the offspring off individuals exposed to certain conditions during several generations are modified in te same mater.\n"
     ]
    }
   ],
   "source": [
    "corrected_word = []\n",
    "for i in text1:\n",
    "    corrected_word.append(spell(i))\n",
    "print(corrected_word)\n",
    "text3 = \" \".join(corrected_word)\n",
    "print(text3)\n",
    "with open(\"text5.txt\", \"w\") as f1:        \n",
    "    f1.write(text3)\n",
    "with open(\"text5.txt\", \"r\") as f2:        \n",
    "    text6 = f2.read()\n",
    "print(text6)"
   ]
  },
  {
   "cell_type": "code",
   "execution_count": null,
   "metadata": {},
   "outputs": [],
   "source": []
  }
 ],
 "metadata": {
  "kernelspec": {
   "display_name": "Python 3",
   "language": "python",
   "name": "python3"
  },
  "language_info": {
   "codemirror_mode": {
    "name": "ipython",
    "version": 3
   },
   "file_extension": ".py",
   "mimetype": "text/x-python",
   "name": "python",
   "nbconvert_exporter": "python",
   "pygments_lexer": "ipython3",
   "version": "3.8.5"
  }
 },
 "nbformat": 4,
 "nbformat_minor": 4
}
